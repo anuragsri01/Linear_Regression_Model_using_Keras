{
 "cells": [
  {
   "cell_type": "code",
   "execution_count": 12,
   "metadata": {},
   "outputs": [
    {
     "name": "stdout",
     "output_type": "stream",
     "text": [
      "Linear regression model is initialized with weights w: -1.07, b: 0.00\n",
      "Epoch 1/30\n",
      "200/200 [==============================] - 0s 943us/step - loss: 1.8861 - mse: 1.8861\n",
      "Epoch 2/30\n",
      "200/200 [==============================] - 0s 528us/step - loss: 0.2227 - mse: 0.2227\n",
      "Epoch 3/30\n",
      "200/200 [==============================] - 0s 493us/step - loss: 0.2116 - mse: 0.2116\n",
      "Epoch 4/30\n",
      "200/200 [==============================] - 0s 535us/step - loss: 0.2014 - mse: 0.2014\n",
      "Epoch 5/30\n",
      "200/200 [==============================] - 0s 635us/step - loss: 0.1921 - mse: 0.1921\n",
      "Epoch 6/30\n",
      "200/200 [==============================] - 0s 635us/step - loss: 0.1835 - mse: 0.1835\n",
      "Epoch 7/30\n",
      "200/200 [==============================] - 0s 640us/step - loss: 0.1756 - mse: 0.1756\n",
      "Epoch 8/30\n",
      "200/200 [==============================] - 0s 615us/step - loss: 0.1684 - mse: 0.1684\n",
      "Epoch 9/30\n",
      "200/200 [==============================] - 0s 575us/step - loss: 0.1618 - mse: 0.1618\n",
      "Epoch 10/30\n",
      "200/200 [==============================] - 0s 570us/step - loss: 0.1557 - mse: 0.1557\n",
      "Epoch 11/30\n",
      "200/200 [==============================] - 0s 516us/step - loss: 0.1501 - mse: 0.1501\n",
      "Epoch 12/30\n",
      "200/200 [==============================] - 0s 494us/step - loss: 0.1450 - mse: 0.1450\n",
      "Epoch 13/30\n",
      "200/200 [==============================] - 0s 495us/step - loss: 0.1403 - mse: 0.1403\n",
      "Epoch 14/30\n",
      "200/200 [==============================] - 0s 485us/step - loss: 0.1359 - mse: 0.1359\n",
      "Epoch 15/30\n",
      "200/200 [==============================] - 0s 500us/step - loss: 0.1320 - mse: 0.1320\n",
      "Epoch 16/30\n",
      "200/200 [==============================] - 0s 506us/step - loss: 0.1283 - mse: 0.1283\n",
      "Epoch 17/30\n",
      "200/200 [==============================] - 0s 494us/step - loss: 0.1250 - mse: 0.1250\n",
      "Epoch 18/30\n",
      "200/200 [==============================] - 0s 496us/step - loss: 0.1220 - mse: 0.1220\n",
      "Epoch 19/30\n",
      "200/200 [==============================] - 0s 500us/step - loss: 0.1192 - mse: 0.1192\n",
      "Epoch 20/30\n",
      "200/200 [==============================] - 0s 492us/step - loss: 0.1166 - mse: 0.1166\n",
      "Epoch 21/30\n",
      "200/200 [==============================] - 0s 497us/step - loss: 0.1142 - mse: 0.1142\n",
      "Epoch 22/30\n",
      "200/200 [==============================] - 0s 488us/step - loss: 0.1121 - mse: 0.1121\n",
      "Epoch 23/30\n",
      "200/200 [==============================] - 0s 490us/step - loss: 0.1101 - mse: 0.1101\n",
      "Epoch 24/30\n",
      "200/200 [==============================] - 0s 512us/step - loss: 0.1083 - mse: 0.1083\n",
      "Epoch 25/30\n",
      "200/200 [==============================] - 0s 503us/step - loss: 0.1066 - mse: 0.1066\n",
      "Epoch 26/30\n",
      "200/200 [==============================] - 0s 491us/step - loss: 0.1051 - mse: 0.1051\n",
      "Epoch 27/30\n",
      "200/200 [==============================] - 0s 497us/step - loss: 0.1037 - mse: 0.1037\n",
      "Epoch 28/30\n",
      "200/200 [==============================] - 0s 490us/step - loss: 0.1024 - mse: 0.1024\n",
      "Epoch 29/30\n",
      "200/200 [==============================] - 0s 494us/step - loss: 0.1013 - mse: 0.1013\n",
      "Epoch 30/30\n",
      "200/200 [==============================] - 0s 497us/step - loss: 0.1002 - mse: 0.1002\n",
      "Linear regression model is trained to have weight w: 3.68, b: 0.69\n"
     ]
    },
    {
     "data": {
      "image/png": "[encoded data removed]",
      "text/plain": [
       "<Figure size 432x288 with 1 Axes>"
      ]
     },
     "metadata": {
      "needs_background": "light"
     },
     "output_type": "display_data"
    }
   ],
   "source": [
    "##  simple linear regression\n",
    "import keras\n",
    "from keras.models import Sequential\n",
    "from keras.layers import Dense, Activation\n",
    "import numpy as np\n",
    "import matplotlib.pyplot as plt\n",
    "%matplotlib inline\n",
    " \n",
    "x = data = np.linspace(1,2,200)\n",
    "y = x*4 + np.random.randn(*x.shape) * 0.3\n",
    "\n",
    "\n",
    "model = Sequential()\n",
    "model.add(Dense(1, input_dim=1, activation='linear'))\n",
    "model.compile(optimizer='sgd', loss='mse', metrics=['mse'])\n",
    "\n",
    "weights = model.layers[0].get_weights()\n",
    "w_init = weights[0][0][0]\n",
    "b_init = weights[1][0]\n",
    "print('Linear regression model is initialized with weights w: %.2f, b: %.2f' % (w_init, b_init)) \n",
    "\n",
    "\n",
    "model.fit(x,y, batch_size=1, epochs=30, shuffle=False)\n",
    "\n",
    "weights = model.layers[0].get_weights()\n",
    "w_final = weights[0][0][0]\n",
    "b_final = weights[1][0]\n",
    "print('Linear regression model is trained to have weight w: %.2f, b: %.2f' % (w_final, b_final))\n",
    "\n",
    "predict = model.predict(data)\n",
    "\n",
    "plt.plot(data, predict, 'b', data , y, 'k.')\n",
    "plt.show()"
   ]
  },
  {
   "cell_type": "code",
   "execution_count": null,
   "metadata": {},
   "outputs": [],
   "source": []
  }
 ],
 "metadata": {
  "kernelspec": {
   "display_name": "Python 3",
   "language": "python",
   "name": "python3"
  },
  "language_info": {
   "codemirror_mode": {
    "name": "ipython",
    "version": 3
   },
   "file_extension": ".py",
   "mimetype": "text/x-python",
   "name": "python",
   "nbconvert_exporter": "python",
   "pygments_lexer": "ipython3",
   "version": "3.7.3"
  }
 },
 "nbformat": 4,
 "nbformat_minor": 2
}
